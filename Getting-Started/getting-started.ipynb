{
    "metadata": {
        "kernelspec": {
            "name": "SQL",
            "display_name": "SQL",
            "language": "sql"
        },
        "language_info": {
            "name": "sql",
            "version": ""
        }
    },
    "nbformat_minor": 2,
    "nbformat": 4,
    "cells": [
        {
            "cell_type": "markdown",
            "source": [
                "# Getting Started\r\n",
                "\r\n",
                "You can create vectors using `json_array_to_vector` and then you can calculate distance between to vectors using `json_array_to_vector`:"
            ],
            "metadata": {
                "azdata_cell_guid": "6681f7bf-3e96-4176-8351-4772aa825cee"
            },
            "attachments": {}
        },
        {
            "cell_type": "code",
            "source": [
                "declare @v1 varbinary(8000) = json_array_to_vector('[1,3,-5]');\r\n",
                "declare @v2 varbinary(8000) = json_array_to_vector('[4,-2,-1]');\r\n",
                "\r\n",
                "select \r\n",
                "    vector_distance('euclidean', @v1, @v2) AS euclidean_distance,\r\n",
                "    vector_distance('cosine', @v1, @v2) AS cosine_distance,\r\n",
                "    vector_distance('dot', @v1, @v2) AS dotproduct_distance;"
            ],
            "metadata": {
                "azdata_cell_guid": "d555e182-ff9a-4316-af19-830be41bda5e",
                "language": "sql",
                "tags": []
            },
            "outputs": [
                {
                    "output_type": "display_data",
                    "data": {
                        "text/html": "(1 row affected)"
                    },
                    "metadata": {}
                },
                {
                    "output_type": "display_data",
                    "data": {
                        "text/html": "Total execution time: 00:00:00.093"
                    },
                    "metadata": {}
                },
                {
                    "output_type": "execute_result",
                    "metadata": {},
                    "execution_count": 3,
                    "data": {
                        "application/vnd.dataresource+json": {
                            "schema": {
                                "fields": [
                                    {
                                        "name": "euclidean_distance"
                                    },
                                    {
                                        "name": "cosine_distance"
                                    },
                                    {
                                        "name": "dotproduct_distance"
                                    }
                                ]
                            },
                            "data": [
                                {
                                    "euclidean_distance": "7.0710678118654755",
                                    "cosine_distance": "0.8893433329655024",
                                    "dotproduct_distance": "-3"
                                }
                            ]
                        },
                        "text/html": [
                            "<table>",
                            "<tr><th>euclidean_distance</th><th>cosine_distance</th><th>dotproduct_distance</th></tr>",
                            "<tr><td>7.0710678118654755</td><td>0.8893433329655024</td><td>-3</td></tr>",
                            "</table>"
                        ]
                    }
                }
            ],
            "execution_count": 3
        },
        {
            "cell_type": "markdown",
            "source": [
                "## Store vectors in tables\r\n",
                "\r\n",
                "Vectors can be stored in a table. The function `isvector` can be used to make sure that the stored binary is actually a vector"
            ],
            "metadata": {
                "language": "sql",
                "azdata_cell_guid": "bf0f3215-322f-497b-8c40-5262f76f1128"
            },
            "attachments": {}
        },
        {
            "cell_type": "code",
            "source": [
                "drop table if exists #vectors\r\n",
                "create table #vectors\r\n",
                "(\r\n",
                "    id int not null identity primary key,\r\n",
                "    vector varbinary(8000) not null check (isvector(vector)=1)\r\n",
                ");\r\n",
                "\r\n",
                "insert into #vectors (vector)\r\n",
                "select \r\n",
                "    json_array_to_vector(a)\r\n",
                "from\r\n",
                "    ( values \r\n",
                "        ('[4, -2, -1]'),\r\n",
                "        ('[1, 3, -5]'),\r\n",
                "        ('[7, -8, -10]'),\r\n",
                "        ('[4.0, 0.2, -1.1]'),\r\n",
                "        ('[0, 0, 0]'),\r\n",
                "        ('[10, 10, 10]'),\r\n",
                "        ('[-0.1, -0.2, -0.3]')\r\n",
                "    ) V(a)\r\n",
                ";\r\n",
                "\r\n",
                "select id, vector_to_json_array(vector) as v from #vectors"
            ],
            "metadata": {
                "azdata_cell_guid": "e19e918c-b4e3-482c-a439-177a90d16226",
                "language": "sql"
            },
            "outputs": [
                {
                    "output_type": "display_data",
                    "data": {
                        "text/html": "(7 rows affected)"
                    },
                    "metadata": {}
                },
                {
                    "output_type": "display_data",
                    "data": {
                        "text/html": "(7 rows affected)"
                    },
                    "metadata": {}
                },
                {
                    "output_type": "display_data",
                    "data": {
                        "text/html": "Total execution time: 00:00:00.110"
                    },
                    "metadata": {}
                },
                {
                    "output_type": "execute_result",
                    "metadata": {},
                    "execution_count": 21,
                    "data": {
                        "application/vnd.dataresource+json": {
                            "schema": {
                                "fields": [
                                    {
                                        "name": "id"
                                    },
                                    {
                                        "name": "v"
                                    }
                                ]
                            },
                            "data": [
                                {
                                    "id": "1",
                                    "v": "[4.0000000000000000,-2.0000000000000000,-1.0000000000000000]"
                                },
                                {
                                    "id": "2",
                                    "v": "[1.0000000000000000,3.0000000000000000,-5.0000000000000000]"
                                },
                                {
                                    "id": "3",
                                    "v": "[7.0000000000000000,-8.0000000000000000,-10.0000000000000000]"
                                },
                                {
                                    "id": "4",
                                    "v": "[4.0000000000000000,0.2000000029802322,-1.1000000238418579]"
                                },
                                {
                                    "id": "5",
                                    "v": "[0.0000000000000000,0.0000000000000000,0.0000000000000000]"
                                },
                                {
                                    "id": "6",
                                    "v": "[10.0000000000000000,10.0000000000000000,10.0000000000000000]"
                                },
                                {
                                    "id": "7",
                                    "v": "[-0.1000000014901161,-0.2000000029802322,-0.3000000119209290]"
                                }
                            ]
                        },
                        "text/html": [
                            "<table>",
                            "<tr><th>id</th><th>v</th></tr>",
                            "<tr><td>1</td><td>[4.0000000000000000,-2.0000000000000000,-1.0000000000000000]</td></tr>",
                            "<tr><td>2</td><td>[1.0000000000000000,3.0000000000000000,-5.0000000000000000]</td></tr>",
                            "<tr><td>3</td><td>[7.0000000000000000,-8.0000000000000000,-10.0000000000000000]</td></tr>",
                            "<tr><td>4</td><td>[4.0000000000000000,0.2000000029802322,-1.1000000238418579]</td></tr>",
                            "<tr><td>5</td><td>[0.0000000000000000,0.0000000000000000,0.0000000000000000]</td></tr>",
                            "<tr><td>6</td><td>[10.0000000000000000,10.0000000000000000,10.0000000000000000]</td></tr>",
                            "<tr><td>7</td><td>[-0.1000000014901161,-0.2000000029802322,-0.3000000119209290]</td></tr>",
                            "</table>"
                        ]
                    }
                }
            ],
            "execution_count": 21
        },
        {
            "cell_type": "markdown",
            "source": [
                "# Query vectors in tables\n",
                "\n",
                "Vector distance can be used with any valid expression that evaluate to a vector. For example it can be used to calcualte distance between vectors in a table"
            ],
            "metadata": {
                "language": "sql",
                "azdata_cell_guid": "5df3d4a5-cd9c-4013-aeed-ab4e33a1cb77"
            },
            "attachments": {}
        },
        {
            "cell_type": "code",
            "source": [
                "declare @v varbinary(8000) = json_array_to_vector('[6.4,-2.5,1.3]');\r\n",
                " \r\n",
                "select \r\n",
                "    v.id,    \r\n",
                "    vector_distance('cosine', @v, v.vector) as distance\r\n",
                "from\r\n",
                "    #vectors v\r\n",
                "where\r\n",
                "    vector_distance('cosine', @v, v.vector) < 0.5\r\n",
                "order by\r\n",
                "    distance\r\n",
                ""
            ],
            "metadata": {
                "language": "sql",
                "azdata_cell_guid": "058d2104-7e32-4f7a-975f-440c753f69d3",
                "tags": []
            },
            "outputs": [
                {
                    "output_type": "display_data",
                    "data": {
                        "text/html": "(3 rows affected)"
                    },
                    "metadata": {}
                },
                {
                    "output_type": "display_data",
                    "data": {
                        "text/html": "Total execution time: 00:00:00.097"
                    },
                    "metadata": {}
                },
                {
                    "output_type": "execute_result",
                    "metadata": {},
                    "execution_count": 22,
                    "data": {
                        "application/vnd.dataresource+json": {
                            "schema": {
                                "fields": [
                                    {
                                        "name": "id"
                                    },
                                    {
                                        "name": "distance"
                                    }
                                ]
                            },
                            "data": [
                                {
                                    "id": "1",
                                    "distance": "0.08566878877110973"
                                },
                                {
                                    "id": "4",
                                    "distance": "0.18501562892002543"
                                },
                                {
                                    "id": "3",
                                    "distance": "0.4924421685441406"
                                }
                            ]
                        },
                        "text/html": [
                            "<table>",
                            "<tr><th>id</th><th>distance</th></tr>",
                            "<tr><td>1</td><td>0.08566878877110973</td></tr>",
                            "<tr><td>4</td><td>0.18501562892002543</td></tr>",
                            "<tr><td>3</td><td>0.4924421685441406</td></tr>",
                            "</table>"
                        ]
                    }
                }
            ],
            "execution_count": 22
        },
        {
            "cell_type": "markdown",
            "source": [
                "# Check vector validity\r\n",
                "\r\n",
                "`isvector` returns 0 (false) if the given binary doesn't contain vector data"
            ],
            "metadata": {
                "azdata_cell_guid": "09b2b7b9-4d22-4532-9c96-b4cacafa5c81"
            },
            "attachments": {}
        },
        {
            "cell_type": "code",
            "source": [
                "select isvector(0x123) as is_vector;"
            ],
            "metadata": {
                "language": "sql",
                "azdata_cell_guid": "20ff30b6-b2ac-41c4-af3f-99036895086f",
                "tags": []
            },
            "outputs": [
                {
                    "output_type": "display_data",
                    "data": {
                        "text/html": "(1 row affected)"
                    },
                    "metadata": {}
                },
                {
                    "output_type": "display_data",
                    "data": {
                        "text/html": "Total execution time: 00:00:00.084"
                    },
                    "metadata": {}
                },
                {
                    "output_type": "execute_result",
                    "metadata": {},
                    "execution_count": 15,
                    "data": {
                        "application/vnd.dataresource+json": {
                            "schema": {
                                "fields": [
                                    {
                                        "name": "is_vector"
                                    }
                                ]
                            },
                            "data": [
                                {
                                    "is_vector": "0"
                                }
                            ]
                        },
                        "text/html": [
                            "<table>",
                            "<tr><th>is_vector</th></tr>",
                            "<tr><td>0</td></tr>",
                            "</table>"
                        ]
                    }
                }
            ],
            "execution_count": 15
        },
        {
            "cell_type": "markdown",
            "source": [
                "Since there is a check constraint using `isvector` on the sample table, the following insert will error out, as the only way to create a valid vector is via the function `json_array_to_vector`"
            ],
            "metadata": {
                "language": "sql",
                "azdata_cell_guid": "4abcab8d-0630-4a4d-ba27-ef70d2e3b8b6"
            },
            "attachments": {}
        },
        {
            "cell_type": "code",
            "source": [
                "insert into #vectors (vector) values (0x123)"
            ],
            "metadata": {
                "language": "sql",
                "azdata_cell_guid": "c827b7b3-281b-475c-b0e1-a0f114901ddb"
            },
            "outputs": [
                {
                    "output_type": "error",
                    "evalue": "Msg 547, Level 16, State 0, Line 1\r\nThe INSERT statement conflicted with the CHECK constraint \"CK__#vectors___vecto__A59E5159\". The conflict occurred in database \"tempdb\", table \"#vectors\", column 'vector'.",
                    "ename": "",
                    "traceback": []
                },
                {
                    "output_type": "display_data",
                    "data": {
                        "text/html": "The statement has been terminated."
                    },
                    "metadata": {}
                },
                {
                    "output_type": "display_data",
                    "data": {
                        "text/html": "Total execution time: 00:00:00.082"
                    },
                    "metadata": {}
                }
            ],
            "execution_count": 13
        },
        {
            "cell_type": "markdown",
            "source": [
                "# Vector Dimensions\r\n",
                "\r\n",
                "In order to calculate distance, vectors must have the same number of dimensions. The following query will fail as the query vector `@v` has 6 dimensions while the stored vectors have only 3."
            ],
            "metadata": {
                "language": "sql",
                "azdata_cell_guid": "3107fd57-4427-49c6-8276-3de90a090f6b"
            },
            "attachments": {}
        },
        {
            "cell_type": "code",
            "source": [
                "declare @v varbinary(8000) = json_array_to_vector('[1, 2, 3, 4, 5, 6]');\r\n",
                " \r\n",
                "select \r\n",
                "    v.id,    \r\n",
                "    vector_distance('cosine', @v, v.vector) as distance\r\n",
                "from\r\n",
                "    #vectors v\r\n",
                "where\r\n",
                "    vector_distance('cosine', @v, v.vector) < 0.5\r\n",
                "order by\r\n",
                "    distance"
            ],
            "metadata": {
                "language": "sql",
                "azdata_cell_guid": "27baad79-e8e3-44a8-bfe2-e0c91f08c8dd"
            },
            "outputs": [
                {
                    "output_type": "display_data",
                    "data": {
                        "text/html": "Total execution time: 00:00:00.088"
                    },
                    "metadata": {}
                },
                {
                    "output_type": "execute_result",
                    "metadata": {},
                    "execution_count": 23,
                    "data": {
                        "application/vnd.dataresource+json": {
                            "schema": {
                                "fields": [
                                    {
                                        "name": "id"
                                    },
                                    {
                                        "name": "distance"
                                    }
                                ]
                            },
                            "data": []
                        },
                        "text/html": [
                            "<table>",
                            "<tr><th>id</th><th>distance</th></tr>",
                            "</table>"
                        ]
                    }
                },
                {
                    "output_type": "error",
                    "evalue": "Msg 42204, Level 16, State 3, Line 3\r\nThe input VECTORs have dimension of 6 and 3, respectively, which do not match.",
                    "ename": "",
                    "traceback": []
                }
            ],
            "execution_count": 23
        }
    ]
}